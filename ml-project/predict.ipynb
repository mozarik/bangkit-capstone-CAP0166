{
 "metadata": {
  "language_info": {
   "codemirror_mode": {
    "name": "ipython",
    "version": 3
   },
   "file_extension": ".py",
   "mimetype": "text/x-python",
   "name": "python",
   "nbconvert_exporter": "python",
   "pygments_lexer": "ipython3",
   "version": "3.8.1"
  },
  "orig_nbformat": 2,
  "kernelspec": {
   "name": "python381jvsc74a57bd02db524e06e9f5f4ffedc911c917cb75e12dbc923643829bf417064a77eb14d37",
   "display_name": "Python 3.8.1 64-bit"
  },
  "metadata": {
   "interpreter": {
    "hash": "2db524e06e9f5f4ffedc911c917cb75e12dbc923643829bf417064a77eb14d37"
   }
  }
 },
 "nbformat": 4,
 "nbformat_minor": 2,
 "cells": [
  {
   "cell_type": "code",
   "execution_count": 1,
   "metadata": {},
   "outputs": [
    {
     "output_type": "error",
     "ename": "ImportError",
     "evalue": "cannot import name 'load_model' from 'tensorflow.keras' (C:\\Python38\\lib\\site-packages\\tensorflow\\keras\\__init__.py)",
     "traceback": [
      "\u001b[1;31m---------------------------------------------------------------------------\u001b[0m",
      "\u001b[1;31mImportError\u001b[0m                               Traceback (most recent call last)",
      "\u001b[1;32m<ipython-input-1-212def7eaf18>\u001b[0m in \u001b[0;36m<module>\u001b[1;34m\u001b[0m\n\u001b[0;32m      5\u001b[0m \u001b[1;32mfrom\u001b[0m \u001b[0msklearn\u001b[0m\u001b[1;33m.\u001b[0m\u001b[0mpreprocessing\u001b[0m \u001b[1;32mimport\u001b[0m \u001b[0mNormalizer\u001b[0m\u001b[1;33m\u001b[0m\u001b[1;33m\u001b[0m\u001b[0m\n\u001b[0;32m      6\u001b[0m \u001b[1;32mfrom\u001b[0m \u001b[0mscipy\u001b[0m\u001b[1;33m.\u001b[0m\u001b[0mspatial\u001b[0m\u001b[1;33m.\u001b[0m\u001b[0mdistance\u001b[0m \u001b[1;32mimport\u001b[0m \u001b[0mcosine\u001b[0m\u001b[1;33m\u001b[0m\u001b[1;33m\u001b[0m\u001b[0m\n\u001b[1;32m----> 7\u001b[1;33m \u001b[1;32mfrom\u001b[0m \u001b[0mtensorflow\u001b[0m\u001b[1;33m.\u001b[0m\u001b[0mkeras\u001b[0m \u001b[1;32mimport\u001b[0m \u001b[0mload_model\u001b[0m\u001b[1;33m\u001b[0m\u001b[1;33m\u001b[0m\u001b[0m\n\u001b[0m",
      "\u001b[1;31mImportError\u001b[0m: cannot import name 'load_model' from 'tensorflow.keras' (C:\\Python38\\lib\\site-packages\\tensorflow\\keras\\__init__.py)"
     ]
    }
   ],
   "source": [
    "import cv2 \n",
    "import numpy as np \n",
    "import mtcnn \n",
    "from model_architecture import *\n",
    "from sklearn.preprocessing import Normalizer\n",
    "from scipy.spatial.distance import cosine\n",
    "from tensorflow.keras.models import load_model"
   ]
  },
  {
   "cell_type": "code",
   "execution_count": 2,
   "metadata": {},
   "outputs": [],
   "source": [
    "confidence_t=0.99\n",
    "recognition_t=0.5\n",
    "required_size = (160,160)"
   ]
  },
  {
   "cell_type": "code",
   "execution_count": 3,
   "metadata": {},
   "outputs": [],
   "source": [
    "def normalize(img):\n",
    "    mean, std = img.mean(), img.std()\n",
    "    return (img - mean) / std\n",
    "\n",
    "def get_encode(face_encoder, face, size):\n",
    "    face = normalize(face)\n",
    "    face = cv2.resize(face, size)\n",
    "    encode = face_encoder.predict(np.expand_dims(face, axis=0))[0]\n",
    "    return encode\n",
    "\n",
    "def load_pickle(path):\n",
    "    with open(path, 'rb') as f:\n",
    "        encoding_dict = pickle.load(f)\n",
    "    return encoding_dict"
   ]
  },
  {
   "cell_type": "code",
   "execution_count": 9,
   "metadata": {},
   "outputs": [],
   "source": [
    "def detect(img ,detector,encoder,encoding_dict):\n",
    "    \"\"\"Detect And Return Result\n",
    "    Parameters\n",
    "    ----------\n",
    "    img : str\n",
    "        Image path you want to predict.\n",
    "    detector : MTCNN object\n",
    "        MTCNN object constructor\n",
    "        ex : detector = mtcnn.MTCNN()\n",
    "    encoder : model_object\n",
    "        Its our pretrained weight\n",
    "        ex : encoder = InceptionResNetV2().load_weights(weight_path)\n",
    "    encoding_dict : pickle_load_object\n",
    "        ex : encoding_dict = load_pickle(encodings_path)\n",
    "    \"\"\"\n",
    "    l2_normalizer = Normalizer('l2')\n",
    "    img = cv2.imread(img)\n",
    "    img_rgb = cv2.cvtColor(img, cv2.COLOR_BGR2RGB) \n",
    "    \n",
    "    # Detect Face In Image\n",
    "    results = detector.detect_faces(img_rgb)\n",
    "    \n",
    "    encode = get_encode(encoder, img_rgb, required_size)\n",
    "    encode = l2_normalizer.transform(encode.reshape(1, -1))[0]\n",
    "\n",
    "    name = \"unknown\"\n",
    "\n",
    "    distance = float(\"inf\")\n",
    "    for db_name, db_encode in encoding_dict.items():\n",
    "        dist = cosine(db_encode, encode)\n",
    "        # Jika semakin dekat or \"dist is low\" the accuracy is high\n",
    "        if dist < recognition_t and dist < distance:\n",
    "                name = db_name\n",
    "                distance = dist\n",
    "\n",
    "    if name == \"unknown\":\n",
    "        print(\"Doesnt recognize\")\n",
    "        print(\"This is {} with Distance {}\".format(name, distance))\n",
    "    else:\n",
    "        print(\"This is {} with Distance {}\".format(name, distance))\n",
    "    \n",
    "    return img\n"
   ]
  },
  {
   "cell_type": "code",
   "execution_count": 7,
   "metadata": {},
   "outputs": [],
   "source": [
    "required_shape = (160,160)\n",
    "face_detector = mtcnn.MTCNN()\n",
    "face_encoder = InceptionResNetV2() \n",
    "weight_path = \"model/facenet_keras_weights.h5\"\n",
    "face_encoder.load_weights(weight_path)\n",
    "encoding_path = \"encodings.pkl\"\n",
    "encoding_dict = load_pickle(encoding_path)"
   ]
  },
  {
   "cell_type": "code",
   "execution_count": 10,
   "metadata": {},
   "outputs": [
    {
     "output_type": "stream",
     "name": "stdout",
     "text": [
      "This is Zein with Distance 0.4640985131263733\n"
     ]
    }
   ],
   "source": [
    "image_path = \"Extracted/face.jpg\"\n",
    "img = detect(image_path, face_detector, face_encoder, encoding_dict)"
   ]
  },
  {
   "cell_type": "code",
   "execution_count": null,
   "metadata": {},
   "outputs": [],
   "source": []
  }
 ]
}